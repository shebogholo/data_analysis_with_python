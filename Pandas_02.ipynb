{
 "cells": [
  {
   "cell_type": "markdown",
   "metadata": {},
   "source": [
    "# Pandas"
   ]
  },
  {
   "cell_type": "code",
   "execution_count": 1,
   "metadata": {},
   "outputs": [],
   "source": [
    "import pandas as pd"
   ]
  },
  {
   "cell_type": "code",
   "execution_count": 2,
   "metadata": {},
   "outputs": [],
   "source": [
    "# dataframe --> table & series --> column"
   ]
  },
  {
   "cell_type": "code",
   "execution_count": 3,
   "metadata": {},
   "outputs": [],
   "source": [
    "# dictionary\n",
    "data = {\n",
    "    'wanawake': [30, 20, 10],\n",
    "    'wanaume': [10, 20, 30]\n",
    "}"
   ]
  },
  {
   "cell_type": "code",
   "execution_count": 4,
   "metadata": {},
   "outputs": [],
   "source": [
    "df = pd.DataFrame(data)"
   ]
  },
  {
   "cell_type": "code",
   "execution_count": 5,
   "metadata": {},
   "outputs": [
    {
     "data": {
      "text/html": [
       "<div>\n",
       "<style scoped>\n",
       "    .dataframe tbody tr th:only-of-type {\n",
       "        vertical-align: middle;\n",
       "    }\n",
       "\n",
       "    .dataframe tbody tr th {\n",
       "        vertical-align: top;\n",
       "    }\n",
       "\n",
       "    .dataframe thead th {\n",
       "        text-align: right;\n",
       "    }\n",
       "</style>\n",
       "<table border=\"1\" class=\"dataframe\">\n",
       "  <thead>\n",
       "    <tr style=\"text-align: right;\">\n",
       "      <th></th>\n",
       "      <th>wanawake</th>\n",
       "      <th>wanaume</th>\n",
       "    </tr>\n",
       "  </thead>\n",
       "  <tbody>\n",
       "    <tr>\n",
       "      <th>0</th>\n",
       "      <td>30</td>\n",
       "      <td>10</td>\n",
       "    </tr>\n",
       "    <tr>\n",
       "      <th>1</th>\n",
       "      <td>20</td>\n",
       "      <td>20</td>\n",
       "    </tr>\n",
       "    <tr>\n",
       "      <th>2</th>\n",
       "      <td>10</td>\n",
       "      <td>30</td>\n",
       "    </tr>\n",
       "  </tbody>\n",
       "</table>\n",
       "</div>"
      ],
      "text/plain": [
       "   wanawake  wanaume\n",
       "0        30       10\n",
       "1        20       20\n",
       "2        10       30"
      ]
     },
     "execution_count": 5,
     "metadata": {},
     "output_type": "execute_result"
    }
   ],
   "source": [
    "df"
   ]
  },
  {
   "cell_type": "code",
   "execution_count": 6,
   "metadata": {},
   "outputs": [
    {
     "data": {
      "text/plain": [
       "0    1\n",
       "1    2\n",
       "2    3\n",
       "3    4\n",
       "4    5\n",
       "dtype: int64"
      ]
     },
     "execution_count": 6,
     "metadata": {},
     "output_type": "execute_result"
    }
   ],
   "source": [
    "pd.Series([1, 2, 3, 4, 5]) # list"
   ]
  },
  {
   "cell_type": "code",
   "execution_count": 7,
   "metadata": {},
   "outputs": [],
   "source": [
    "# kusoma .csv\n",
    "df = pd.read_csv('data.csv')"
   ]
  },
  {
   "cell_type": "code",
   "execution_count": 8,
   "metadata": {},
   "outputs": [
    {
     "data": {
      "text/html": [
       "<div>\n",
       "<style scoped>\n",
       "    .dataframe tbody tr th:only-of-type {\n",
       "        vertical-align: middle;\n",
       "    }\n",
       "\n",
       "    .dataframe tbody tr th {\n",
       "        vertical-align: top;\n",
       "    }\n",
       "\n",
       "    .dataframe thead th {\n",
       "        text-align: right;\n",
       "    }\n",
       "</style>\n",
       "<table border=\"1\" class=\"dataframe\">\n",
       "  <thead>\n",
       "    <tr style=\"text-align: right;\">\n",
       "      <th></th>\n",
       "      <th>REGION</th>\n",
       "      <th>DISTRICT</th>\n",
       "      <th>MALE</th>\n",
       "      <th>FEMALE</th>\n",
       "    </tr>\n",
       "  </thead>\n",
       "  <tbody>\n",
       "    <tr>\n",
       "      <th>0</th>\n",
       "      <td>ARUSHA</td>\n",
       "      <td>ARUSHA RURAL</td>\n",
       "      <td>32475.0</td>\n",
       "      <td>33698.0</td>\n",
       "    </tr>\n",
       "    <tr>\n",
       "      <th>1</th>\n",
       "      <td>ARUSHA</td>\n",
       "      <td>ARUSHA URBAN</td>\n",
       "      <td>36315.0</td>\n",
       "      <td>36993.0</td>\n",
       "    </tr>\n",
       "    <tr>\n",
       "      <th>2</th>\n",
       "      <td>ARUSHA</td>\n",
       "      <td>KARATU</td>\n",
       "      <td>23303.0</td>\n",
       "      <td>23181.0</td>\n",
       "    </tr>\n",
       "    <tr>\n",
       "      <th>3</th>\n",
       "      <td>ARUSHA</td>\n",
       "      <td>LONGIDO</td>\n",
       "      <td>10584.0</td>\n",
       "      <td>9045.0</td>\n",
       "    </tr>\n",
       "    <tr>\n",
       "      <th>4</th>\n",
       "      <td>ARUSHA</td>\n",
       "      <td>MERU</td>\n",
       "      <td>33854.0</td>\n",
       "      <td>34171.0</td>\n",
       "    </tr>\n",
       "    <tr>\n",
       "      <th>...</th>\n",
       "      <td>...</td>\n",
       "      <td>...</td>\n",
       "      <td>...</td>\n",
       "      <td>...</td>\n",
       "    </tr>\n",
       "    <tr>\n",
       "      <th>158</th>\n",
       "      <td>TANGA</td>\n",
       "      <td>LUSHOTO</td>\n",
       "      <td>69395.0</td>\n",
       "      <td>70238.0</td>\n",
       "    </tr>\n",
       "    <tr>\n",
       "      <th>159</th>\n",
       "      <td>TANGA</td>\n",
       "      <td>MKINGA</td>\n",
       "      <td>12799.0</td>\n",
       "      <td>12568.0</td>\n",
       "    </tr>\n",
       "    <tr>\n",
       "      <th>160</th>\n",
       "      <td>TANGA</td>\n",
       "      <td>MUHEZA</td>\n",
       "      <td>19672.0</td>\n",
       "      <td>19650.0</td>\n",
       "    </tr>\n",
       "    <tr>\n",
       "      <th>161</th>\n",
       "      <td>TANGA</td>\n",
       "      <td>PANGANI</td>\n",
       "      <td>4903.0</td>\n",
       "      <td>4925.0</td>\n",
       "    </tr>\n",
       "    <tr>\n",
       "      <th>162</th>\n",
       "      <td>TANGA</td>\n",
       "      <td>TANGA URBAN</td>\n",
       "      <td>26555.0</td>\n",
       "      <td>26487.0</td>\n",
       "    </tr>\n",
       "  </tbody>\n",
       "</table>\n",
       "<p>163 rows × 4 columns</p>\n",
       "</div>"
      ],
      "text/plain": [
       "     REGION      DISTRICT     MALE   FEMALE\n",
       "0    ARUSHA  ARUSHA RURAL  32475.0  33698.0\n",
       "1    ARUSHA  ARUSHA URBAN  36315.0  36993.0\n",
       "2    ARUSHA        KARATU  23303.0  23181.0\n",
       "3    ARUSHA       LONGIDO  10584.0   9045.0\n",
       "4    ARUSHA          MERU  33854.0  34171.0\n",
       "..      ...           ...      ...      ...\n",
       "158   TANGA       LUSHOTO  69395.0  70238.0\n",
       "159   TANGA        MKINGA  12799.0  12568.0\n",
       "160   TANGA        MUHEZA  19672.0  19650.0\n",
       "161   TANGA       PANGANI   4903.0   4925.0\n",
       "162   TANGA   TANGA URBAN  26555.0  26487.0\n",
       "\n",
       "[163 rows x 4 columns]"
      ]
     },
     "execution_count": 8,
     "metadata": {},
     "output_type": "execute_result"
    }
   ],
   "source": [
    "df"
   ]
  },
  {
   "cell_type": "code",
   "execution_count": 9,
   "metadata": {},
   "outputs": [
    {
     "data": {
      "text/plain": [
       "(163, 4)"
      ]
     },
     "execution_count": 9,
     "metadata": {},
     "output_type": "execute_result"
    }
   ],
   "source": [
    "df.shape"
   ]
  },
  {
   "cell_type": "code",
   "execution_count": 10,
   "metadata": {},
   "outputs": [
    {
     "data": {
      "text/html": [
       "<div>\n",
       "<style scoped>\n",
       "    .dataframe tbody tr th:only-of-type {\n",
       "        vertical-align: middle;\n",
       "    }\n",
       "\n",
       "    .dataframe tbody tr th {\n",
       "        vertical-align: top;\n",
       "    }\n",
       "\n",
       "    .dataframe thead th {\n",
       "        text-align: right;\n",
       "    }\n",
       "</style>\n",
       "<table border=\"1\" class=\"dataframe\">\n",
       "  <thead>\n",
       "    <tr style=\"text-align: right;\">\n",
       "      <th></th>\n",
       "      <th>REGION</th>\n",
       "      <th>DISTRICT</th>\n",
       "      <th>MALE</th>\n",
       "      <th>FEMALE</th>\n",
       "    </tr>\n",
       "  </thead>\n",
       "  <tbody>\n",
       "    <tr>\n",
       "      <th>0</th>\n",
       "      <td>ARUSHA</td>\n",
       "      <td>ARUSHA RURAL</td>\n",
       "      <td>32475.0</td>\n",
       "      <td>33698.0</td>\n",
       "    </tr>\n",
       "    <tr>\n",
       "      <th>1</th>\n",
       "      <td>ARUSHA</td>\n",
       "      <td>ARUSHA URBAN</td>\n",
       "      <td>36315.0</td>\n",
       "      <td>36993.0</td>\n",
       "    </tr>\n",
       "    <tr>\n",
       "      <th>2</th>\n",
       "      <td>ARUSHA</td>\n",
       "      <td>KARATU</td>\n",
       "      <td>23303.0</td>\n",
       "      <td>23181.0</td>\n",
       "    </tr>\n",
       "    <tr>\n",
       "      <th>3</th>\n",
       "      <td>ARUSHA</td>\n",
       "      <td>LONGIDO</td>\n",
       "      <td>10584.0</td>\n",
       "      <td>9045.0</td>\n",
       "    </tr>\n",
       "    <tr>\n",
       "      <th>4</th>\n",
       "      <td>ARUSHA</td>\n",
       "      <td>MERU</td>\n",
       "      <td>33854.0</td>\n",
       "      <td>34171.0</td>\n",
       "    </tr>\n",
       "  </tbody>\n",
       "</table>\n",
       "</div>"
      ],
      "text/plain": [
       "   REGION      DISTRICT     MALE   FEMALE\n",
       "0  ARUSHA  ARUSHA RURAL  32475.0  33698.0\n",
       "1  ARUSHA  ARUSHA URBAN  36315.0  36993.0\n",
       "2  ARUSHA        KARATU  23303.0  23181.0\n",
       "3  ARUSHA       LONGIDO  10584.0   9045.0\n",
       "4  ARUSHA          MERU  33854.0  34171.0"
      ]
     },
     "execution_count": 10,
     "metadata": {},
     "output_type": "execute_result"
    }
   ],
   "source": [
    "df.head() # rekodi 5 za mwanzo"
   ]
  },
  {
   "cell_type": "code",
   "execution_count": 11,
   "metadata": {},
   "outputs": [
    {
     "data": {
      "text/html": [
       "<div>\n",
       "<style scoped>\n",
       "    .dataframe tbody tr th:only-of-type {\n",
       "        vertical-align: middle;\n",
       "    }\n",
       "\n",
       "    .dataframe tbody tr th {\n",
       "        vertical-align: top;\n",
       "    }\n",
       "\n",
       "    .dataframe thead th {\n",
       "        text-align: right;\n",
       "    }\n",
       "</style>\n",
       "<table border=\"1\" class=\"dataframe\">\n",
       "  <thead>\n",
       "    <tr style=\"text-align: right;\">\n",
       "      <th></th>\n",
       "      <th>REGION</th>\n",
       "      <th>DISTRICT</th>\n",
       "      <th>MALE</th>\n",
       "      <th>FEMALE</th>\n",
       "    </tr>\n",
       "  </thead>\n",
       "  <tbody>\n",
       "    <tr>\n",
       "      <th>158</th>\n",
       "      <td>TANGA</td>\n",
       "      <td>LUSHOTO</td>\n",
       "      <td>69395.0</td>\n",
       "      <td>70238.0</td>\n",
       "    </tr>\n",
       "    <tr>\n",
       "      <th>159</th>\n",
       "      <td>TANGA</td>\n",
       "      <td>MKINGA</td>\n",
       "      <td>12799.0</td>\n",
       "      <td>12568.0</td>\n",
       "    </tr>\n",
       "    <tr>\n",
       "      <th>160</th>\n",
       "      <td>TANGA</td>\n",
       "      <td>MUHEZA</td>\n",
       "      <td>19672.0</td>\n",
       "      <td>19650.0</td>\n",
       "    </tr>\n",
       "    <tr>\n",
       "      <th>161</th>\n",
       "      <td>TANGA</td>\n",
       "      <td>PANGANI</td>\n",
       "      <td>4903.0</td>\n",
       "      <td>4925.0</td>\n",
       "    </tr>\n",
       "    <tr>\n",
       "      <th>162</th>\n",
       "      <td>TANGA</td>\n",
       "      <td>TANGA URBAN</td>\n",
       "      <td>26555.0</td>\n",
       "      <td>26487.0</td>\n",
       "    </tr>\n",
       "  </tbody>\n",
       "</table>\n",
       "</div>"
      ],
      "text/plain": [
       "    REGION     DISTRICT     MALE   FEMALE\n",
       "158  TANGA      LUSHOTO  69395.0  70238.0\n",
       "159  TANGA       MKINGA  12799.0  12568.0\n",
       "160  TANGA       MUHEZA  19672.0  19650.0\n",
       "161  TANGA      PANGANI   4903.0   4925.0\n",
       "162  TANGA  TANGA URBAN  26555.0  26487.0"
      ]
     },
     "execution_count": 11,
     "metadata": {},
     "output_type": "execute_result"
    }
   ],
   "source": [
    "df.tail() # rekodi 5 za mwisho"
   ]
  },
  {
   "cell_type": "code",
   "execution_count": 12,
   "metadata": {},
   "outputs": [
    {
     "data": {
      "text/plain": [
       "Index(['REGION', 'DISTRICT', 'MALE', 'FEMALE'], dtype='object')"
      ]
     },
     "execution_count": 12,
     "metadata": {},
     "output_type": "execute_result"
    }
   ],
   "source": [
    "df.columns"
   ]
  },
  {
   "cell_type": "code",
   "execution_count": 13,
   "metadata": {},
   "outputs": [],
   "source": [
    "# ongeza nguzo (column)\n",
    "df['TOTAL'] = df['MALE'] + df['FEMALE']"
   ]
  },
  {
   "cell_type": "code",
   "execution_count": 14,
   "metadata": {},
   "outputs": [
    {
     "data": {
      "text/html": [
       "<div>\n",
       "<style scoped>\n",
       "    .dataframe tbody tr th:only-of-type {\n",
       "        vertical-align: middle;\n",
       "    }\n",
       "\n",
       "    .dataframe tbody tr th {\n",
       "        vertical-align: top;\n",
       "    }\n",
       "\n",
       "    .dataframe thead th {\n",
       "        text-align: right;\n",
       "    }\n",
       "</style>\n",
       "<table border=\"1\" class=\"dataframe\">\n",
       "  <thead>\n",
       "    <tr style=\"text-align: right;\">\n",
       "      <th></th>\n",
       "      <th>REGION</th>\n",
       "      <th>DISTRICT</th>\n",
       "      <th>MALE</th>\n",
       "      <th>FEMALE</th>\n",
       "      <th>TOTAL</th>\n",
       "    </tr>\n",
       "  </thead>\n",
       "  <tbody>\n",
       "    <tr>\n",
       "      <th>0</th>\n",
       "      <td>ARUSHA</td>\n",
       "      <td>ARUSHA RURAL</td>\n",
       "      <td>32475.0</td>\n",
       "      <td>33698.0</td>\n",
       "      <td>66173.0</td>\n",
       "    </tr>\n",
       "    <tr>\n",
       "      <th>1</th>\n",
       "      <td>ARUSHA</td>\n",
       "      <td>ARUSHA URBAN</td>\n",
       "      <td>36315.0</td>\n",
       "      <td>36993.0</td>\n",
       "      <td>73308.0</td>\n",
       "    </tr>\n",
       "    <tr>\n",
       "      <th>2</th>\n",
       "      <td>ARUSHA</td>\n",
       "      <td>KARATU</td>\n",
       "      <td>23303.0</td>\n",
       "      <td>23181.0</td>\n",
       "      <td>46484.0</td>\n",
       "    </tr>\n",
       "    <tr>\n",
       "      <th>3</th>\n",
       "      <td>ARUSHA</td>\n",
       "      <td>LONGIDO</td>\n",
       "      <td>10584.0</td>\n",
       "      <td>9045.0</td>\n",
       "      <td>19629.0</td>\n",
       "    </tr>\n",
       "    <tr>\n",
       "      <th>4</th>\n",
       "      <td>ARUSHA</td>\n",
       "      <td>MERU</td>\n",
       "      <td>33854.0</td>\n",
       "      <td>34171.0</td>\n",
       "      <td>68025.0</td>\n",
       "    </tr>\n",
       "  </tbody>\n",
       "</table>\n",
       "</div>"
      ],
      "text/plain": [
       "   REGION      DISTRICT     MALE   FEMALE    TOTAL\n",
       "0  ARUSHA  ARUSHA RURAL  32475.0  33698.0  66173.0\n",
       "1  ARUSHA  ARUSHA URBAN  36315.0  36993.0  73308.0\n",
       "2  ARUSHA        KARATU  23303.0  23181.0  46484.0\n",
       "3  ARUSHA       LONGIDO  10584.0   9045.0  19629.0\n",
       "4  ARUSHA          MERU  33854.0  34171.0  68025.0"
      ]
     },
     "execution_count": 14,
     "metadata": {},
     "output_type": "execute_result"
    }
   ],
   "source": [
    "df.head()"
   ]
  },
  {
   "cell_type": "code",
   "execution_count": 15,
   "metadata": {},
   "outputs": [],
   "source": [
    "# ondoa nguzo\n",
    "df.drop('TOTAL', axis=1, inplace=True)"
   ]
  },
  {
   "cell_type": "code",
   "execution_count": 16,
   "metadata": {},
   "outputs": [
    {
     "data": {
      "text/html": [
       "<div>\n",
       "<style scoped>\n",
       "    .dataframe tbody tr th:only-of-type {\n",
       "        vertical-align: middle;\n",
       "    }\n",
       "\n",
       "    .dataframe tbody tr th {\n",
       "        vertical-align: top;\n",
       "    }\n",
       "\n",
       "    .dataframe thead th {\n",
       "        text-align: right;\n",
       "    }\n",
       "</style>\n",
       "<table border=\"1\" class=\"dataframe\">\n",
       "  <thead>\n",
       "    <tr style=\"text-align: right;\">\n",
       "      <th></th>\n",
       "      <th>REGION</th>\n",
       "      <th>DISTRICT</th>\n",
       "      <th>MALE</th>\n",
       "      <th>FEMALE</th>\n",
       "    </tr>\n",
       "  </thead>\n",
       "  <tbody>\n",
       "    <tr>\n",
       "      <th>0</th>\n",
       "      <td>ARUSHA</td>\n",
       "      <td>ARUSHA RURAL</td>\n",
       "      <td>32475.0</td>\n",
       "      <td>33698.0</td>\n",
       "    </tr>\n",
       "    <tr>\n",
       "      <th>1</th>\n",
       "      <td>ARUSHA</td>\n",
       "      <td>ARUSHA URBAN</td>\n",
       "      <td>36315.0</td>\n",
       "      <td>36993.0</td>\n",
       "    </tr>\n",
       "    <tr>\n",
       "      <th>2</th>\n",
       "      <td>ARUSHA</td>\n",
       "      <td>KARATU</td>\n",
       "      <td>23303.0</td>\n",
       "      <td>23181.0</td>\n",
       "    </tr>\n",
       "    <tr>\n",
       "      <th>3</th>\n",
       "      <td>ARUSHA</td>\n",
       "      <td>LONGIDO</td>\n",
       "      <td>10584.0</td>\n",
       "      <td>9045.0</td>\n",
       "    </tr>\n",
       "    <tr>\n",
       "      <th>4</th>\n",
       "      <td>ARUSHA</td>\n",
       "      <td>MERU</td>\n",
       "      <td>33854.0</td>\n",
       "      <td>34171.0</td>\n",
       "    </tr>\n",
       "  </tbody>\n",
       "</table>\n",
       "</div>"
      ],
      "text/plain": [
       "   REGION      DISTRICT     MALE   FEMALE\n",
       "0  ARUSHA  ARUSHA RURAL  32475.0  33698.0\n",
       "1  ARUSHA  ARUSHA URBAN  36315.0  36993.0\n",
       "2  ARUSHA        KARATU  23303.0  23181.0\n",
       "3  ARUSHA       LONGIDO  10584.0   9045.0\n",
       "4  ARUSHA          MERU  33854.0  34171.0"
      ]
     },
     "execution_count": 16,
     "metadata": {},
     "output_type": "execute_result"
    }
   ],
   "source": [
    "df.head()"
   ]
  },
  {
   "cell_type": "code",
   "execution_count": 17,
   "metadata": {},
   "outputs": [],
   "source": [
    "# selection & indexing"
   ]
  },
  {
   "cell_type": "code",
   "execution_count": 18,
   "metadata": {},
   "outputs": [
    {
     "data": {
      "text/plain": [
       "0      ARUSHA\n",
       "1      ARUSHA\n",
       "2      ARUSHA\n",
       "3      ARUSHA\n",
       "4      ARUSHA\n",
       "        ...  \n",
       "158     TANGA\n",
       "159     TANGA\n",
       "160     TANGA\n",
       "161     TANGA\n",
       "162     TANGA\n",
       "Name: REGION, Length: 163, dtype: object"
      ]
     },
     "execution_count": 18,
     "metadata": {},
     "output_type": "execute_result"
    }
   ],
   "source": [
    "df.REGION"
   ]
  },
  {
   "cell_type": "code",
   "execution_count": 19,
   "metadata": {},
   "outputs": [
    {
     "data": {
      "text/plain": [
       "0      ARUSHA\n",
       "1      ARUSHA\n",
       "2      ARUSHA\n",
       "3      ARUSHA\n",
       "4      ARUSHA\n",
       "        ...  \n",
       "158     TANGA\n",
       "159     TANGA\n",
       "160     TANGA\n",
       "161     TANGA\n",
       "162     TANGA\n",
       "Name: REGION, Length: 163, dtype: object"
      ]
     },
     "execution_count": 19,
     "metadata": {},
     "output_type": "execute_result"
    }
   ],
   "source": [
    "df['REGION']"
   ]
  },
  {
   "cell_type": "code",
   "execution_count": 20,
   "metadata": {},
   "outputs": [
    {
     "data": {
      "text/html": [
       "<div>\n",
       "<style scoped>\n",
       "    .dataframe tbody tr th:only-of-type {\n",
       "        vertical-align: middle;\n",
       "    }\n",
       "\n",
       "    .dataframe tbody tr th {\n",
       "        vertical-align: top;\n",
       "    }\n",
       "\n",
       "    .dataframe thead th {\n",
       "        text-align: right;\n",
       "    }\n",
       "</style>\n",
       "<table border=\"1\" class=\"dataframe\">\n",
       "  <thead>\n",
       "    <tr style=\"text-align: right;\">\n",
       "      <th></th>\n",
       "      <th>REGION</th>\n",
       "      <th>DISTRICT</th>\n",
       "    </tr>\n",
       "  </thead>\n",
       "  <tbody>\n",
       "    <tr>\n",
       "      <th>0</th>\n",
       "      <td>ARUSHA</td>\n",
       "      <td>ARUSHA RURAL</td>\n",
       "    </tr>\n",
       "    <tr>\n",
       "      <th>1</th>\n",
       "      <td>ARUSHA</td>\n",
       "      <td>ARUSHA URBAN</td>\n",
       "    </tr>\n",
       "    <tr>\n",
       "      <th>2</th>\n",
       "      <td>ARUSHA</td>\n",
       "      <td>KARATU</td>\n",
       "    </tr>\n",
       "    <tr>\n",
       "      <th>3</th>\n",
       "      <td>ARUSHA</td>\n",
       "      <td>LONGIDO</td>\n",
       "    </tr>\n",
       "    <tr>\n",
       "      <th>4</th>\n",
       "      <td>ARUSHA</td>\n",
       "      <td>MERU</td>\n",
       "    </tr>\n",
       "    <tr>\n",
       "      <th>...</th>\n",
       "      <td>...</td>\n",
       "      <td>...</td>\n",
       "    </tr>\n",
       "    <tr>\n",
       "      <th>158</th>\n",
       "      <td>TANGA</td>\n",
       "      <td>LUSHOTO</td>\n",
       "    </tr>\n",
       "    <tr>\n",
       "      <th>159</th>\n",
       "      <td>TANGA</td>\n",
       "      <td>MKINGA</td>\n",
       "    </tr>\n",
       "    <tr>\n",
       "      <th>160</th>\n",
       "      <td>TANGA</td>\n",
       "      <td>MUHEZA</td>\n",
       "    </tr>\n",
       "    <tr>\n",
       "      <th>161</th>\n",
       "      <td>TANGA</td>\n",
       "      <td>PANGANI</td>\n",
       "    </tr>\n",
       "    <tr>\n",
       "      <th>162</th>\n",
       "      <td>TANGA</td>\n",
       "      <td>TANGA URBAN</td>\n",
       "    </tr>\n",
       "  </tbody>\n",
       "</table>\n",
       "<p>163 rows × 2 columns</p>\n",
       "</div>"
      ],
      "text/plain": [
       "     REGION      DISTRICT\n",
       "0    ARUSHA  ARUSHA RURAL\n",
       "1    ARUSHA  ARUSHA URBAN\n",
       "2    ARUSHA        KARATU\n",
       "3    ARUSHA       LONGIDO\n",
       "4    ARUSHA          MERU\n",
       "..      ...           ...\n",
       "158   TANGA       LUSHOTO\n",
       "159   TANGA        MKINGA\n",
       "160   TANGA        MUHEZA\n",
       "161   TANGA       PANGANI\n",
       "162   TANGA   TANGA URBAN\n",
       "\n",
       "[163 rows x 2 columns]"
      ]
     },
     "execution_count": 20,
     "metadata": {},
     "output_type": "execute_result"
    }
   ],
   "source": [
    "df[['REGION', 'DISTRICT']]"
   ]
  },
  {
   "cell_type": "code",
   "execution_count": 22,
   "metadata": {},
   "outputs": [
    {
     "data": {
      "text/html": [
       "<div>\n",
       "<style scoped>\n",
       "    .dataframe tbody tr th:only-of-type {\n",
       "        vertical-align: middle;\n",
       "    }\n",
       "\n",
       "    .dataframe tbody tr th {\n",
       "        vertical-align: top;\n",
       "    }\n",
       "\n",
       "    .dataframe thead th {\n",
       "        text-align: right;\n",
       "    }\n",
       "</style>\n",
       "<table border=\"1\" class=\"dataframe\">\n",
       "  <thead>\n",
       "    <tr style=\"text-align: right;\">\n",
       "      <th></th>\n",
       "      <th>REGION</th>\n",
       "      <th>DISTRICT</th>\n",
       "      <th>MALE</th>\n",
       "      <th>FEMALE</th>\n",
       "    </tr>\n",
       "  </thead>\n",
       "  <tbody>\n",
       "    <tr>\n",
       "      <th>0</th>\n",
       "      <td>ARUSHA</td>\n",
       "      <td>ARUSHA RURAL</td>\n",
       "      <td>32475.0</td>\n",
       "      <td>33698.0</td>\n",
       "    </tr>\n",
       "    <tr>\n",
       "      <th>1</th>\n",
       "      <td>ARUSHA</td>\n",
       "      <td>ARUSHA URBAN</td>\n",
       "      <td>36315.0</td>\n",
       "      <td>36993.0</td>\n",
       "    </tr>\n",
       "    <tr>\n",
       "      <th>2</th>\n",
       "      <td>ARUSHA</td>\n",
       "      <td>KARATU</td>\n",
       "      <td>23303.0</td>\n",
       "      <td>23181.0</td>\n",
       "    </tr>\n",
       "    <tr>\n",
       "      <th>3</th>\n",
       "      <td>ARUSHA</td>\n",
       "      <td>LONGIDO</td>\n",
       "      <td>10584.0</td>\n",
       "      <td>9045.0</td>\n",
       "    </tr>\n",
       "    <tr>\n",
       "      <th>4</th>\n",
       "      <td>ARUSHA</td>\n",
       "      <td>MERU</td>\n",
       "      <td>33854.0</td>\n",
       "      <td>34171.0</td>\n",
       "    </tr>\n",
       "    <tr>\n",
       "      <th>5</th>\n",
       "      <td>ARUSHA</td>\n",
       "      <td>MONDULI</td>\n",
       "      <td>13689.0</td>\n",
       "      <td>12888.0</td>\n",
       "    </tr>\n",
       "    <tr>\n",
       "      <th>6</th>\n",
       "      <td>ARUSHA</td>\n",
       "      <td>NGORONGORO</td>\n",
       "      <td>16017.0</td>\n",
       "      <td>12162.0</td>\n",
       "    </tr>\n",
       "  </tbody>\n",
       "</table>\n",
       "</div>"
      ],
      "text/plain": [
       "   REGION      DISTRICT     MALE   FEMALE\n",
       "0  ARUSHA  ARUSHA RURAL  32475.0  33698.0\n",
       "1  ARUSHA  ARUSHA URBAN  36315.0  36993.0\n",
       "2  ARUSHA        KARATU  23303.0  23181.0\n",
       "3  ARUSHA       LONGIDO  10584.0   9045.0\n",
       "4  ARUSHA          MERU  33854.0  34171.0\n",
       "5  ARUSHA       MONDULI  13689.0  12888.0\n",
       "6  ARUSHA    NGORONGORO  16017.0  12162.0"
      ]
     },
     "execution_count": 22,
     "metadata": {},
     "output_type": "execute_result"
    }
   ],
   "source": [
    "# chuja (filtering)\n",
    "df[df['REGION'] == 'ARUSHA']"
   ]
  },
  {
   "cell_type": "code",
   "execution_count": 23,
   "metadata": {},
   "outputs": [
    {
     "data": {
      "text/html": [
       "<div>\n",
       "<style scoped>\n",
       "    .dataframe tbody tr th:only-of-type {\n",
       "        vertical-align: middle;\n",
       "    }\n",
       "\n",
       "    .dataframe tbody tr th {\n",
       "        vertical-align: top;\n",
       "    }\n",
       "\n",
       "    .dataframe thead th {\n",
       "        text-align: right;\n",
       "    }\n",
       "</style>\n",
       "<table border=\"1\" class=\"dataframe\">\n",
       "  <thead>\n",
       "    <tr style=\"text-align: right;\">\n",
       "      <th></th>\n",
       "      <th>REGION</th>\n",
       "      <th>DISTRICT</th>\n",
       "      <th>MALE</th>\n",
       "      <th>FEMALE</th>\n",
       "    </tr>\n",
       "  </thead>\n",
       "  <tbody>\n",
       "    <tr>\n",
       "      <th>114</th>\n",
       "      <td>PWANI</td>\n",
       "      <td>MAFIA</td>\n",
       "      <td>4284.0</td>\n",
       "      <td>4477.0</td>\n",
       "    </tr>\n",
       "  </tbody>\n",
       "</table>\n",
       "</div>"
      ],
      "text/plain": [
       "    REGION DISTRICT    MALE  FEMALE\n",
       "114  PWANI    MAFIA  4284.0  4477.0"
      ]
     },
     "execution_count": 23,
     "metadata": {},
     "output_type": "execute_result"
    }
   ],
   "source": [
    "df[df['MALE'] < 4500]"
   ]
  },
  {
   "cell_type": "code",
   "execution_count": 24,
   "metadata": {},
   "outputs": [
    {
     "data": {
      "text/html": [
       "<div>\n",
       "<style scoped>\n",
       "    .dataframe tbody tr th:only-of-type {\n",
       "        vertical-align: middle;\n",
       "    }\n",
       "\n",
       "    .dataframe tbody tr th {\n",
       "        vertical-align: top;\n",
       "    }\n",
       "\n",
       "    .dataframe thead th {\n",
       "        text-align: right;\n",
       "    }\n",
       "</style>\n",
       "<table border=\"1\" class=\"dataframe\">\n",
       "  <thead>\n",
       "    <tr style=\"text-align: right;\">\n",
       "      <th></th>\n",
       "      <th>REGION</th>\n",
       "      <th>DISTRICT</th>\n",
       "      <th>MALE</th>\n",
       "      <th>FEMALE</th>\n",
       "    </tr>\n",
       "  </thead>\n",
       "  <tbody>\n",
       "    <tr>\n",
       "      <th>0</th>\n",
       "      <td>ARUSHA</td>\n",
       "      <td>ARUSHA RURAL</td>\n",
       "      <td>32475.0</td>\n",
       "      <td>33698.0</td>\n",
       "    </tr>\n",
       "    <tr>\n",
       "      <th>1</th>\n",
       "      <td>ARUSHA</td>\n",
       "      <td>ARUSHA URBAN</td>\n",
       "      <td>36315.0</td>\n",
       "      <td>36993.0</td>\n",
       "    </tr>\n",
       "    <tr>\n",
       "      <th>2</th>\n",
       "      <td>ARUSHA</td>\n",
       "      <td>KARATU</td>\n",
       "      <td>23303.0</td>\n",
       "      <td>23181.0</td>\n",
       "    </tr>\n",
       "    <tr>\n",
       "      <th>3</th>\n",
       "      <td>ARUSHA</td>\n",
       "      <td>LONGIDO</td>\n",
       "      <td>10584.0</td>\n",
       "      <td>9045.0</td>\n",
       "    </tr>\n",
       "    <tr>\n",
       "      <th>4</th>\n",
       "      <td>ARUSHA</td>\n",
       "      <td>MERU</td>\n",
       "      <td>33854.0</td>\n",
       "      <td>34171.0</td>\n",
       "    </tr>\n",
       "    <tr>\n",
       "      <th>...</th>\n",
       "      <td>...</td>\n",
       "      <td>...</td>\n",
       "      <td>...</td>\n",
       "      <td>...</td>\n",
       "    </tr>\n",
       "    <tr>\n",
       "      <th>156</th>\n",
       "      <td>TANGA</td>\n",
       "      <td>KOROGWE RURAL</td>\n",
       "      <td>25306.0</td>\n",
       "      <td>25000.0</td>\n",
       "    </tr>\n",
       "    <tr>\n",
       "      <th>158</th>\n",
       "      <td>TANGA</td>\n",
       "      <td>LUSHOTO</td>\n",
       "      <td>69395.0</td>\n",
       "      <td>70238.0</td>\n",
       "    </tr>\n",
       "    <tr>\n",
       "      <th>159</th>\n",
       "      <td>TANGA</td>\n",
       "      <td>MKINGA</td>\n",
       "      <td>12799.0</td>\n",
       "      <td>12568.0</td>\n",
       "    </tr>\n",
       "    <tr>\n",
       "      <th>160</th>\n",
       "      <td>TANGA</td>\n",
       "      <td>MUHEZA</td>\n",
       "      <td>19672.0</td>\n",
       "      <td>19650.0</td>\n",
       "    </tr>\n",
       "    <tr>\n",
       "      <th>162</th>\n",
       "      <td>TANGA</td>\n",
       "      <td>TANGA URBAN</td>\n",
       "      <td>26555.0</td>\n",
       "      <td>26487.0</td>\n",
       "    </tr>\n",
       "  </tbody>\n",
       "</table>\n",
       "<p>128 rows × 4 columns</p>\n",
       "</div>"
      ],
      "text/plain": [
       "     REGION       DISTRICT     MALE   FEMALE\n",
       "0    ARUSHA   ARUSHA RURAL  32475.0  33698.0\n",
       "1    ARUSHA   ARUSHA URBAN  36315.0  36993.0\n",
       "2    ARUSHA         KARATU  23303.0  23181.0\n",
       "3    ARUSHA        LONGIDO  10584.0   9045.0\n",
       "4    ARUSHA           MERU  33854.0  34171.0\n",
       "..      ...            ...      ...      ...\n",
       "156   TANGA  KOROGWE RURAL  25306.0  25000.0\n",
       "158   TANGA        LUSHOTO  69395.0  70238.0\n",
       "159   TANGA         MKINGA  12799.0  12568.0\n",
       "160   TANGA         MUHEZA  19672.0  19650.0\n",
       "162   TANGA    TANGA URBAN  26555.0  26487.0\n",
       "\n",
       "[128 rows x 4 columns]"
      ]
     },
     "execution_count": 24,
     "metadata": {},
     "output_type": "execute_result"
    }
   ],
   "source": [
    "df[df['MALE'] > 7500]"
   ]
  },
  {
   "cell_type": "code",
   "execution_count": 25,
   "metadata": {},
   "outputs": [
    {
     "data": {
      "text/html": [
       "<div>\n",
       "<style scoped>\n",
       "    .dataframe tbody tr th:only-of-type {\n",
       "        vertical-align: middle;\n",
       "    }\n",
       "\n",
       "    .dataframe tbody tr th {\n",
       "        vertical-align: top;\n",
       "    }\n",
       "\n",
       "    .dataframe thead th {\n",
       "        text-align: right;\n",
       "    }\n",
       "</style>\n",
       "<table border=\"1\" class=\"dataframe\">\n",
       "  <thead>\n",
       "    <tr style=\"text-align: right;\">\n",
       "      <th></th>\n",
       "      <th>MALE</th>\n",
       "      <th>FEMALE</th>\n",
       "    </tr>\n",
       "  </thead>\n",
       "  <tbody>\n",
       "    <tr>\n",
       "      <th>count</th>\n",
       "      <td>133.000000</td>\n",
       "      <td>133.000000</td>\n",
       "    </tr>\n",
       "    <tr>\n",
       "      <th>mean</th>\n",
       "      <td>30723.909774</td>\n",
       "      <td>31284.902256</td>\n",
       "    </tr>\n",
       "    <tr>\n",
       "      <th>std</th>\n",
       "      <td>18853.800924</td>\n",
       "      <td>19406.712320</td>\n",
       "    </tr>\n",
       "    <tr>\n",
       "      <th>min</th>\n",
       "      <td>4284.000000</td>\n",
       "      <td>4477.000000</td>\n",
       "    </tr>\n",
       "    <tr>\n",
       "      <th>25%</th>\n",
       "      <td>16823.000000</td>\n",
       "      <td>17030.000000</td>\n",
       "    </tr>\n",
       "    <tr>\n",
       "      <th>50%</th>\n",
       "      <td>27554.000000</td>\n",
       "      <td>28264.000000</td>\n",
       "    </tr>\n",
       "    <tr>\n",
       "      <th>75%</th>\n",
       "      <td>38260.000000</td>\n",
       "      <td>38332.000000</td>\n",
       "    </tr>\n",
       "    <tr>\n",
       "      <th>max</th>\n",
       "      <td>115698.000000</td>\n",
       "      <td>116328.000000</td>\n",
       "    </tr>\n",
       "  </tbody>\n",
       "</table>\n",
       "</div>"
      ],
      "text/plain": [
       "                MALE         FEMALE\n",
       "count     133.000000     133.000000\n",
       "mean    30723.909774   31284.902256\n",
       "std     18853.800924   19406.712320\n",
       "min      4284.000000    4477.000000\n",
       "25%     16823.000000   17030.000000\n",
       "50%     27554.000000   28264.000000\n",
       "75%     38260.000000   38332.000000\n",
       "max    115698.000000  116328.000000"
      ]
     },
     "execution_count": 25,
     "metadata": {},
     "output_type": "execute_result"
    }
   ],
   "source": [
    "df.describe()"
   ]
  },
  {
   "cell_type": "code",
   "execution_count": 26,
   "metadata": {},
   "outputs": [
    {
     "data": {
      "text/plain": [
       "(163, 4)"
      ]
     },
     "execution_count": 26,
     "metadata": {},
     "output_type": "execute_result"
    }
   ],
   "source": [
    "df.shape"
   ]
  },
  {
   "cell_type": "code",
   "execution_count": 27,
   "metadata": {},
   "outputs": [
    {
     "data": {
      "text/html": [
       "<div>\n",
       "<style scoped>\n",
       "    .dataframe tbody tr th:only-of-type {\n",
       "        vertical-align: middle;\n",
       "    }\n",
       "\n",
       "    .dataframe tbody tr th {\n",
       "        vertical-align: top;\n",
       "    }\n",
       "\n",
       "    .dataframe thead th {\n",
       "        text-align: right;\n",
       "    }\n",
       "</style>\n",
       "<table border=\"1\" class=\"dataframe\">\n",
       "  <thead>\n",
       "    <tr style=\"text-align: right;\">\n",
       "      <th></th>\n",
       "      <th>REGION</th>\n",
       "      <th>DISTRICT</th>\n",
       "      <th>MALE</th>\n",
       "      <th>FEMALE</th>\n",
       "    </tr>\n",
       "  </thead>\n",
       "  <tbody>\n",
       "    <tr>\n",
       "      <th>19</th>\n",
       "      <td>GEITA</td>\n",
       "      <td>GEITA</td>\n",
       "      <td>115698.0</td>\n",
       "      <td>116328.0</td>\n",
       "    </tr>\n",
       "  </tbody>\n",
       "</table>\n",
       "</div>"
      ],
      "text/plain": [
       "   REGION DISTRICT      MALE    FEMALE\n",
       "19  GEITA    GEITA  115698.0  116328.0"
      ]
     },
     "execution_count": 27,
     "metadata": {},
     "output_type": "execute_result"
    }
   ],
   "source": [
    "df[df['MALE'] > 115000]"
   ]
  },
  {
   "cell_type": "code",
   "execution_count": 28,
   "metadata": {},
   "outputs": [
    {
     "data": {
      "text/html": [
       "<div>\n",
       "<style scoped>\n",
       "    .dataframe tbody tr th:only-of-type {\n",
       "        vertical-align: middle;\n",
       "    }\n",
       "\n",
       "    .dataframe tbody tr th {\n",
       "        vertical-align: top;\n",
       "    }\n",
       "\n",
       "    .dataframe thead th {\n",
       "        text-align: right;\n",
       "    }\n",
       "</style>\n",
       "<table border=\"1\" class=\"dataframe\">\n",
       "  <thead>\n",
       "    <tr style=\"text-align: right;\">\n",
       "      <th></th>\n",
       "      <th>REGION</th>\n",
       "      <th>DISTRICT</th>\n",
       "      <th>MALE</th>\n",
       "      <th>FEMALE</th>\n",
       "    </tr>\n",
       "  </thead>\n",
       "  <tbody>\n",
       "    <tr>\n",
       "      <th>0</th>\n",
       "      <td>ARUSHA</td>\n",
       "      <td>ARUSHA RURAL</td>\n",
       "      <td>32475.0</td>\n",
       "      <td>33698.0</td>\n",
       "    </tr>\n",
       "    <tr>\n",
       "      <th>1</th>\n",
       "      <td>ARUSHA</td>\n",
       "      <td>ARUSHA URBAN</td>\n",
       "      <td>36315.0</td>\n",
       "      <td>36993.0</td>\n",
       "    </tr>\n",
       "    <tr>\n",
       "      <th>2</th>\n",
       "      <td>ARUSHA</td>\n",
       "      <td>KARATU</td>\n",
       "      <td>23303.0</td>\n",
       "      <td>23181.0</td>\n",
       "    </tr>\n",
       "    <tr>\n",
       "      <th>3</th>\n",
       "      <td>ARUSHA</td>\n",
       "      <td>LONGIDO</td>\n",
       "      <td>10584.0</td>\n",
       "      <td>9045.0</td>\n",
       "    </tr>\n",
       "    <tr>\n",
       "      <th>4</th>\n",
       "      <td>ARUSHA</td>\n",
       "      <td>MERU</td>\n",
       "      <td>33854.0</td>\n",
       "      <td>34171.0</td>\n",
       "    </tr>\n",
       "  </tbody>\n",
       "</table>\n",
       "</div>"
      ],
      "text/plain": [
       "   REGION      DISTRICT     MALE   FEMALE\n",
       "0  ARUSHA  ARUSHA RURAL  32475.0  33698.0\n",
       "1  ARUSHA  ARUSHA URBAN  36315.0  36993.0\n",
       "2  ARUSHA        KARATU  23303.0  23181.0\n",
       "3  ARUSHA       LONGIDO  10584.0   9045.0\n",
       "4  ARUSHA          MERU  33854.0  34171.0"
      ]
     },
     "execution_count": 28,
     "metadata": {},
     "output_type": "execute_result"
    }
   ],
   "source": [
    "df[0:5]"
   ]
  },
  {
   "cell_type": "code",
   "execution_count": 29,
   "metadata": {},
   "outputs": [
    {
     "data": {
      "text/html": [
       "<div>\n",
       "<style scoped>\n",
       "    .dataframe tbody tr th:only-of-type {\n",
       "        vertical-align: middle;\n",
       "    }\n",
       "\n",
       "    .dataframe tbody tr th {\n",
       "        vertical-align: top;\n",
       "    }\n",
       "\n",
       "    .dataframe thead th {\n",
       "        text-align: right;\n",
       "    }\n",
       "</style>\n",
       "<table border=\"1\" class=\"dataframe\">\n",
       "  <thead>\n",
       "    <tr style=\"text-align: right;\">\n",
       "      <th></th>\n",
       "      <th>REGION</th>\n",
       "      <th>DISTRICT</th>\n",
       "      <th>MALE</th>\n",
       "      <th>FEMALE</th>\n",
       "    </tr>\n",
       "  </thead>\n",
       "  <tbody>\n",
       "    <tr>\n",
       "      <th>0</th>\n",
       "      <td>ARUSHA</td>\n",
       "      <td>ARUSHA RURAL</td>\n",
       "      <td>32475.0</td>\n",
       "      <td>33698.0</td>\n",
       "    </tr>\n",
       "    <tr>\n",
       "      <th>1</th>\n",
       "      <td>ARUSHA</td>\n",
       "      <td>ARUSHA URBAN</td>\n",
       "      <td>36315.0</td>\n",
       "      <td>36993.0</td>\n",
       "    </tr>\n",
       "    <tr>\n",
       "      <th>2</th>\n",
       "      <td>ARUSHA</td>\n",
       "      <td>KARATU</td>\n",
       "      <td>23303.0</td>\n",
       "      <td>23181.0</td>\n",
       "    </tr>\n",
       "    <tr>\n",
       "      <th>3</th>\n",
       "      <td>ARUSHA</td>\n",
       "      <td>LONGIDO</td>\n",
       "      <td>10584.0</td>\n",
       "      <td>9045.0</td>\n",
       "    </tr>\n",
       "    <tr>\n",
       "      <th>4</th>\n",
       "      <td>ARUSHA</td>\n",
       "      <td>MERU</td>\n",
       "      <td>33854.0</td>\n",
       "      <td>34171.0</td>\n",
       "    </tr>\n",
       "  </tbody>\n",
       "</table>\n",
       "</div>"
      ],
      "text/plain": [
       "   REGION      DISTRICT     MALE   FEMALE\n",
       "0  ARUSHA  ARUSHA RURAL  32475.0  33698.0\n",
       "1  ARUSHA  ARUSHA URBAN  36315.0  36993.0\n",
       "2  ARUSHA        KARATU  23303.0  23181.0\n",
       "3  ARUSHA       LONGIDO  10584.0   9045.0\n",
       "4  ARUSHA          MERU  33854.0  34171.0"
      ]
     },
     "execution_count": 29,
     "metadata": {},
     "output_type": "execute_result"
    }
   ],
   "source": [
    "df.head()"
   ]
  },
  {
   "cell_type": "code",
   "execution_count": 30,
   "metadata": {},
   "outputs": [],
   "source": [
    "# indexing"
   ]
  },
  {
   "cell_type": "code",
   "execution_count": 31,
   "metadata": {},
   "outputs": [],
   "source": [
    "# .loc\n",
    "# .iloc"
   ]
  },
  {
   "cell_type": "code",
   "execution_count": 32,
   "metadata": {},
   "outputs": [
    {
     "data": {
      "text/plain": [
       "'ARUSHA'"
      ]
     },
     "execution_count": 32,
     "metadata": {},
     "output_type": "execute_result"
    }
   ],
   "source": [
    "df.loc[0, 'REGION']"
   ]
  },
  {
   "cell_type": "code",
   "execution_count": 34,
   "metadata": {},
   "outputs": [
    {
     "data": {
      "text/plain": [
       "'MERU'"
      ]
     },
     "execution_count": 34,
     "metadata": {},
     "output_type": "execute_result"
    }
   ],
   "source": [
    "df.loc[4, 'DISTRICT']"
   ]
  },
  {
   "cell_type": "code",
   "execution_count": 37,
   "metadata": {},
   "outputs": [
    {
     "data": {
      "text/html": [
       "<div>\n",
       "<style scoped>\n",
       "    .dataframe tbody tr th:only-of-type {\n",
       "        vertical-align: middle;\n",
       "    }\n",
       "\n",
       "    .dataframe tbody tr th {\n",
       "        vertical-align: top;\n",
       "    }\n",
       "\n",
       "    .dataframe thead th {\n",
       "        text-align: right;\n",
       "    }\n",
       "</style>\n",
       "<table border=\"1\" class=\"dataframe\">\n",
       "  <thead>\n",
       "    <tr style=\"text-align: right;\">\n",
       "      <th></th>\n",
       "      <th>REGION</th>\n",
       "      <th>DISTRICT</th>\n",
       "    </tr>\n",
       "  </thead>\n",
       "  <tbody>\n",
       "    <tr>\n",
       "      <th>0</th>\n",
       "      <td>ARUSHA</td>\n",
       "      <td>ARUSHA RURAL</td>\n",
       "    </tr>\n",
       "    <tr>\n",
       "      <th>1</th>\n",
       "      <td>ARUSHA</td>\n",
       "      <td>ARUSHA URBAN</td>\n",
       "    </tr>\n",
       "    <tr>\n",
       "      <th>2</th>\n",
       "      <td>ARUSHA</td>\n",
       "      <td>KARATU</td>\n",
       "    </tr>\n",
       "    <tr>\n",
       "      <th>3</th>\n",
       "      <td>ARUSHA</td>\n",
       "      <td>LONGIDO</td>\n",
       "    </tr>\n",
       "    <tr>\n",
       "      <th>4</th>\n",
       "      <td>ARUSHA</td>\n",
       "      <td>MERU</td>\n",
       "    </tr>\n",
       "  </tbody>\n",
       "</table>\n",
       "</div>"
      ],
      "text/plain": [
       "   REGION      DISTRICT\n",
       "0  ARUSHA  ARUSHA RURAL\n",
       "1  ARUSHA  ARUSHA URBAN\n",
       "2  ARUSHA        KARATU\n",
       "3  ARUSHA       LONGIDO\n",
       "4  ARUSHA          MERU"
      ]
     },
     "execution_count": 37,
     "metadata": {},
     "output_type": "execute_result"
    }
   ],
   "source": [
    "df.loc[:, ['REGION', 'DISTRICT']].head()"
   ]
  },
  {
   "cell_type": "code",
   "execution_count": 38,
   "metadata": {},
   "outputs": [
    {
     "data": {
      "text/plain": [
       "'ARUSHA'"
      ]
     },
     "execution_count": 38,
     "metadata": {},
     "output_type": "execute_result"
    }
   ],
   "source": [
    "df.iloc[0, 0]"
   ]
  },
  {
   "cell_type": "code",
   "execution_count": 39,
   "metadata": {},
   "outputs": [
    {
     "data": {
      "text/plain": [
       "'MERU'"
      ]
     },
     "execution_count": 39,
     "metadata": {},
     "output_type": "execute_result"
    }
   ],
   "source": [
    "df.iloc[4, 1]"
   ]
  },
  {
   "cell_type": "code",
   "execution_count": 40,
   "metadata": {},
   "outputs": [
    {
     "data": {
      "text/html": [
       "<div>\n",
       "<style scoped>\n",
       "    .dataframe tbody tr th:only-of-type {\n",
       "        vertical-align: middle;\n",
       "    }\n",
       "\n",
       "    .dataframe tbody tr th {\n",
       "        vertical-align: top;\n",
       "    }\n",
       "\n",
       "    .dataframe thead th {\n",
       "        text-align: right;\n",
       "    }\n",
       "</style>\n",
       "<table border=\"1\" class=\"dataframe\">\n",
       "  <thead>\n",
       "    <tr style=\"text-align: right;\">\n",
       "      <th></th>\n",
       "      <th>REGION</th>\n",
       "      <th>DISTRICT</th>\n",
       "    </tr>\n",
       "  </thead>\n",
       "  <tbody>\n",
       "    <tr>\n",
       "      <th>0</th>\n",
       "      <td>ARUSHA</td>\n",
       "      <td>ARUSHA RURAL</td>\n",
       "    </tr>\n",
       "    <tr>\n",
       "      <th>1</th>\n",
       "      <td>ARUSHA</td>\n",
       "      <td>ARUSHA URBAN</td>\n",
       "    </tr>\n",
       "    <tr>\n",
       "      <th>2</th>\n",
       "      <td>ARUSHA</td>\n",
       "      <td>KARATU</td>\n",
       "    </tr>\n",
       "    <tr>\n",
       "      <th>3</th>\n",
       "      <td>ARUSHA</td>\n",
       "      <td>LONGIDO</td>\n",
       "    </tr>\n",
       "    <tr>\n",
       "      <th>4</th>\n",
       "      <td>ARUSHA</td>\n",
       "      <td>MERU</td>\n",
       "    </tr>\n",
       "  </tbody>\n",
       "</table>\n",
       "</div>"
      ],
      "text/plain": [
       "   REGION      DISTRICT\n",
       "0  ARUSHA  ARUSHA RURAL\n",
       "1  ARUSHA  ARUSHA URBAN\n",
       "2  ARUSHA        KARATU\n",
       "3  ARUSHA       LONGIDO\n",
       "4  ARUSHA          MERU"
      ]
     },
     "execution_count": 40,
     "metadata": {},
     "output_type": "execute_result"
    }
   ],
   "source": [
    "df.iloc[:, [0, 1]].head()"
   ]
  },
  {
   "cell_type": "code",
   "execution_count": 41,
   "metadata": {},
   "outputs": [],
   "source": [
    "# sorting (panga data)"
   ]
  },
  {
   "cell_type": "code",
   "execution_count": 42,
   "metadata": {},
   "outputs": [
    {
     "data": {
      "text/html": [
       "<div>\n",
       "<style scoped>\n",
       "    .dataframe tbody tr th:only-of-type {\n",
       "        vertical-align: middle;\n",
       "    }\n",
       "\n",
       "    .dataframe tbody tr th {\n",
       "        vertical-align: top;\n",
       "    }\n",
       "\n",
       "    .dataframe thead th {\n",
       "        text-align: right;\n",
       "    }\n",
       "</style>\n",
       "<table border=\"1\" class=\"dataframe\">\n",
       "  <thead>\n",
       "    <tr style=\"text-align: right;\">\n",
       "      <th></th>\n",
       "      <th>REGION</th>\n",
       "      <th>DISTRICT</th>\n",
       "      <th>MALE</th>\n",
       "      <th>FEMALE</th>\n",
       "    </tr>\n",
       "  </thead>\n",
       "  <tbody>\n",
       "    <tr>\n",
       "      <th>19</th>\n",
       "      <td>GEITA</td>\n",
       "      <td>GEITA</td>\n",
       "      <td>115698.0</td>\n",
       "      <td>116328.0</td>\n",
       "    </tr>\n",
       "    <tr>\n",
       "      <th>8</th>\n",
       "      <td>DAR ES SALAAM</td>\n",
       "      <td>KINONDONI</td>\n",
       "      <td>91554.0</td>\n",
       "      <td>93921.0</td>\n",
       "    </tr>\n",
       "    <tr>\n",
       "      <th>9</th>\n",
       "      <td>DAR ES SALAAM</td>\n",
       "      <td>TEMEKE</td>\n",
       "      <td>85118.0</td>\n",
       "      <td>88813.0</td>\n",
       "    </tr>\n",
       "    <tr>\n",
       "      <th>134</th>\n",
       "      <td>SIMIYU</td>\n",
       "      <td>BARIADI RURAL</td>\n",
       "      <td>75089.0</td>\n",
       "      <td>79153.0</td>\n",
       "    </tr>\n",
       "    <tr>\n",
       "      <th>7</th>\n",
       "      <td>DAR ES SALAAM</td>\n",
       "      <td>ILALA</td>\n",
       "      <td>73129.0</td>\n",
       "      <td>78309.0</td>\n",
       "    </tr>\n",
       "    <tr>\n",
       "      <th>...</th>\n",
       "      <td>...</td>\n",
       "      <td>...</td>\n",
       "      <td>...</td>\n",
       "      <td>...</td>\n",
       "    </tr>\n",
       "    <tr>\n",
       "      <th>137</th>\n",
       "      <td>SIMIYU</td>\n",
       "      <td>ITILIMA</td>\n",
       "      <td>NaN</td>\n",
       "      <td>NaN</td>\n",
       "    </tr>\n",
       "    <tr>\n",
       "      <th>140</th>\n",
       "      <td>SINGIDA</td>\n",
       "      <td>IKUNGI</td>\n",
       "      <td>NaN</td>\n",
       "      <td>NaN</td>\n",
       "    </tr>\n",
       "    <tr>\n",
       "      <th>143</th>\n",
       "      <td>SINGIDA</td>\n",
       "      <td>MKALAMA</td>\n",
       "      <td>NaN</td>\n",
       "      <td>NaN</td>\n",
       "    </tr>\n",
       "    <tr>\n",
       "      <th>147</th>\n",
       "      <td>TABORA</td>\n",
       "      <td>KALIUA</td>\n",
       "      <td>NaN</td>\n",
       "      <td>NaN</td>\n",
       "    </tr>\n",
       "    <tr>\n",
       "      <th>153</th>\n",
       "      <td>TANGA</td>\n",
       "      <td>BUMBULI</td>\n",
       "      <td>NaN</td>\n",
       "      <td>NaN</td>\n",
       "    </tr>\n",
       "  </tbody>\n",
       "</table>\n",
       "<p>163 rows × 4 columns</p>\n",
       "</div>"
      ],
      "text/plain": [
       "            REGION       DISTRICT      MALE    FEMALE\n",
       "19           GEITA          GEITA  115698.0  116328.0\n",
       "8    DAR ES SALAAM      KINONDONI   91554.0   93921.0\n",
       "9    DAR ES SALAAM         TEMEKE   85118.0   88813.0\n",
       "134         SIMIYU  BARIADI RURAL   75089.0   79153.0\n",
       "7    DAR ES SALAAM          ILALA   73129.0   78309.0\n",
       "..             ...            ...       ...       ...\n",
       "137         SIMIYU        ITILIMA       NaN       NaN\n",
       "140        SINGIDA         IKUNGI       NaN       NaN\n",
       "143        SINGIDA        MKALAMA       NaN       NaN\n",
       "147         TABORA         KALIUA       NaN       NaN\n",
       "153          TANGA        BUMBULI       NaN       NaN\n",
       "\n",
       "[163 rows x 4 columns]"
      ]
     },
     "execution_count": 42,
     "metadata": {},
     "output_type": "execute_result"
    }
   ],
   "source": [
    "d = df.sort_values(by='FEMALE', ascending=False)\n",
    "d"
   ]
  },
  {
   "cell_type": "code",
   "execution_count": 43,
   "metadata": {},
   "outputs": [],
   "source": [
    "# kuhifadhi (save df)"
   ]
  },
  {
   "cell_type": "code",
   "execution_count": 44,
   "metadata": {},
   "outputs": [
    {
     "data": {
      "text/html": [
       "<div>\n",
       "<style scoped>\n",
       "    .dataframe tbody tr th:only-of-type {\n",
       "        vertical-align: middle;\n",
       "    }\n",
       "\n",
       "    .dataframe tbody tr th {\n",
       "        vertical-align: top;\n",
       "    }\n",
       "\n",
       "    .dataframe thead th {\n",
       "        text-align: right;\n",
       "    }\n",
       "</style>\n",
       "<table border=\"1\" class=\"dataframe\">\n",
       "  <thead>\n",
       "    <tr style=\"text-align: right;\">\n",
       "      <th></th>\n",
       "      <th>REGION</th>\n",
       "      <th>DISTRICT</th>\n",
       "      <th>MALE</th>\n",
       "      <th>FEMALE</th>\n",
       "    </tr>\n",
       "  </thead>\n",
       "  <tbody>\n",
       "    <tr>\n",
       "      <th>0</th>\n",
       "      <td>ARUSHA</td>\n",
       "      <td>ARUSHA RURAL</td>\n",
       "      <td>32475.0</td>\n",
       "      <td>33698.0</td>\n",
       "    </tr>\n",
       "    <tr>\n",
       "      <th>1</th>\n",
       "      <td>ARUSHA</td>\n",
       "      <td>ARUSHA URBAN</td>\n",
       "      <td>36315.0</td>\n",
       "      <td>36993.0</td>\n",
       "    </tr>\n",
       "    <tr>\n",
       "      <th>2</th>\n",
       "      <td>ARUSHA</td>\n",
       "      <td>KARATU</td>\n",
       "      <td>23303.0</td>\n",
       "      <td>23181.0</td>\n",
       "    </tr>\n",
       "    <tr>\n",
       "      <th>3</th>\n",
       "      <td>ARUSHA</td>\n",
       "      <td>LONGIDO</td>\n",
       "      <td>10584.0</td>\n",
       "      <td>9045.0</td>\n",
       "    </tr>\n",
       "    <tr>\n",
       "      <th>4</th>\n",
       "      <td>ARUSHA</td>\n",
       "      <td>MERU</td>\n",
       "      <td>33854.0</td>\n",
       "      <td>34171.0</td>\n",
       "    </tr>\n",
       "    <tr>\n",
       "      <th>...</th>\n",
       "      <td>...</td>\n",
       "      <td>...</td>\n",
       "      <td>...</td>\n",
       "      <td>...</td>\n",
       "    </tr>\n",
       "    <tr>\n",
       "      <th>158</th>\n",
       "      <td>TANGA</td>\n",
       "      <td>LUSHOTO</td>\n",
       "      <td>69395.0</td>\n",
       "      <td>70238.0</td>\n",
       "    </tr>\n",
       "    <tr>\n",
       "      <th>159</th>\n",
       "      <td>TANGA</td>\n",
       "      <td>MKINGA</td>\n",
       "      <td>12799.0</td>\n",
       "      <td>12568.0</td>\n",
       "    </tr>\n",
       "    <tr>\n",
       "      <th>160</th>\n",
       "      <td>TANGA</td>\n",
       "      <td>MUHEZA</td>\n",
       "      <td>19672.0</td>\n",
       "      <td>19650.0</td>\n",
       "    </tr>\n",
       "    <tr>\n",
       "      <th>161</th>\n",
       "      <td>TANGA</td>\n",
       "      <td>PANGANI</td>\n",
       "      <td>4903.0</td>\n",
       "      <td>4925.0</td>\n",
       "    </tr>\n",
       "    <tr>\n",
       "      <th>162</th>\n",
       "      <td>TANGA</td>\n",
       "      <td>TANGA URBAN</td>\n",
       "      <td>26555.0</td>\n",
       "      <td>26487.0</td>\n",
       "    </tr>\n",
       "  </tbody>\n",
       "</table>\n",
       "<p>163 rows × 4 columns</p>\n",
       "</div>"
      ],
      "text/plain": [
       "     REGION      DISTRICT     MALE   FEMALE\n",
       "0    ARUSHA  ARUSHA RURAL  32475.0  33698.0\n",
       "1    ARUSHA  ARUSHA URBAN  36315.0  36993.0\n",
       "2    ARUSHA        KARATU  23303.0  23181.0\n",
       "3    ARUSHA       LONGIDO  10584.0   9045.0\n",
       "4    ARUSHA          MERU  33854.0  34171.0\n",
       "..      ...           ...      ...      ...\n",
       "158   TANGA       LUSHOTO  69395.0  70238.0\n",
       "159   TANGA        MKINGA  12799.0  12568.0\n",
       "160   TANGA        MUHEZA  19672.0  19650.0\n",
       "161   TANGA       PANGANI   4903.0   4925.0\n",
       "162   TANGA   TANGA URBAN  26555.0  26487.0\n",
       "\n",
       "[163 rows x 4 columns]"
      ]
     },
     "execution_count": 44,
     "metadata": {},
     "output_type": "execute_result"
    }
   ],
   "source": [
    "df"
   ]
  },
  {
   "cell_type": "code",
   "execution_count": 45,
   "metadata": {},
   "outputs": [],
   "source": [
    "df.to_csv('new_data.csv', index=False)"
   ]
  },
  {
   "cell_type": "code",
   "execution_count": 46,
   "metadata": {},
   "outputs": [],
   "source": [
    "# unganisha dataframe"
   ]
  },
  {
   "cell_type": "code",
   "execution_count": 47,
   "metadata": {},
   "outputs": [],
   "source": [
    "df1 = df.head()\n",
    "df2 = df.tail()"
   ]
  },
  {
   "cell_type": "code",
   "execution_count": 48,
   "metadata": {},
   "outputs": [
    {
     "data": {
      "text/html": [
       "<div>\n",
       "<style scoped>\n",
       "    .dataframe tbody tr th:only-of-type {\n",
       "        vertical-align: middle;\n",
       "    }\n",
       "\n",
       "    .dataframe tbody tr th {\n",
       "        vertical-align: top;\n",
       "    }\n",
       "\n",
       "    .dataframe thead th {\n",
       "        text-align: right;\n",
       "    }\n",
       "</style>\n",
       "<table border=\"1\" class=\"dataframe\">\n",
       "  <thead>\n",
       "    <tr style=\"text-align: right;\">\n",
       "      <th></th>\n",
       "      <th>REGION</th>\n",
       "      <th>DISTRICT</th>\n",
       "      <th>MALE</th>\n",
       "      <th>FEMALE</th>\n",
       "    </tr>\n",
       "  </thead>\n",
       "  <tbody>\n",
       "    <tr>\n",
       "      <th>0</th>\n",
       "      <td>ARUSHA</td>\n",
       "      <td>ARUSHA RURAL</td>\n",
       "      <td>32475.0</td>\n",
       "      <td>33698.0</td>\n",
       "    </tr>\n",
       "    <tr>\n",
       "      <th>1</th>\n",
       "      <td>ARUSHA</td>\n",
       "      <td>ARUSHA URBAN</td>\n",
       "      <td>36315.0</td>\n",
       "      <td>36993.0</td>\n",
       "    </tr>\n",
       "    <tr>\n",
       "      <th>2</th>\n",
       "      <td>ARUSHA</td>\n",
       "      <td>KARATU</td>\n",
       "      <td>23303.0</td>\n",
       "      <td>23181.0</td>\n",
       "    </tr>\n",
       "    <tr>\n",
       "      <th>3</th>\n",
       "      <td>ARUSHA</td>\n",
       "      <td>LONGIDO</td>\n",
       "      <td>10584.0</td>\n",
       "      <td>9045.0</td>\n",
       "    </tr>\n",
       "    <tr>\n",
       "      <th>4</th>\n",
       "      <td>ARUSHA</td>\n",
       "      <td>MERU</td>\n",
       "      <td>33854.0</td>\n",
       "      <td>34171.0</td>\n",
       "    </tr>\n",
       "  </tbody>\n",
       "</table>\n",
       "</div>"
      ],
      "text/plain": [
       "   REGION      DISTRICT     MALE   FEMALE\n",
       "0  ARUSHA  ARUSHA RURAL  32475.0  33698.0\n",
       "1  ARUSHA  ARUSHA URBAN  36315.0  36993.0\n",
       "2  ARUSHA        KARATU  23303.0  23181.0\n",
       "3  ARUSHA       LONGIDO  10584.0   9045.0\n",
       "4  ARUSHA          MERU  33854.0  34171.0"
      ]
     },
     "execution_count": 48,
     "metadata": {},
     "output_type": "execute_result"
    }
   ],
   "source": [
    "df1"
   ]
  },
  {
   "cell_type": "code",
   "execution_count": 49,
   "metadata": {},
   "outputs": [
    {
     "data": {
      "text/html": [
       "<div>\n",
       "<style scoped>\n",
       "    .dataframe tbody tr th:only-of-type {\n",
       "        vertical-align: middle;\n",
       "    }\n",
       "\n",
       "    .dataframe tbody tr th {\n",
       "        vertical-align: top;\n",
       "    }\n",
       "\n",
       "    .dataframe thead th {\n",
       "        text-align: right;\n",
       "    }\n",
       "</style>\n",
       "<table border=\"1\" class=\"dataframe\">\n",
       "  <thead>\n",
       "    <tr style=\"text-align: right;\">\n",
       "      <th></th>\n",
       "      <th>REGION</th>\n",
       "      <th>DISTRICT</th>\n",
       "      <th>MALE</th>\n",
       "      <th>FEMALE</th>\n",
       "    </tr>\n",
       "  </thead>\n",
       "  <tbody>\n",
       "    <tr>\n",
       "      <th>158</th>\n",
       "      <td>TANGA</td>\n",
       "      <td>LUSHOTO</td>\n",
       "      <td>69395.0</td>\n",
       "      <td>70238.0</td>\n",
       "    </tr>\n",
       "    <tr>\n",
       "      <th>159</th>\n",
       "      <td>TANGA</td>\n",
       "      <td>MKINGA</td>\n",
       "      <td>12799.0</td>\n",
       "      <td>12568.0</td>\n",
       "    </tr>\n",
       "    <tr>\n",
       "      <th>160</th>\n",
       "      <td>TANGA</td>\n",
       "      <td>MUHEZA</td>\n",
       "      <td>19672.0</td>\n",
       "      <td>19650.0</td>\n",
       "    </tr>\n",
       "    <tr>\n",
       "      <th>161</th>\n",
       "      <td>TANGA</td>\n",
       "      <td>PANGANI</td>\n",
       "      <td>4903.0</td>\n",
       "      <td>4925.0</td>\n",
       "    </tr>\n",
       "    <tr>\n",
       "      <th>162</th>\n",
       "      <td>TANGA</td>\n",
       "      <td>TANGA URBAN</td>\n",
       "      <td>26555.0</td>\n",
       "      <td>26487.0</td>\n",
       "    </tr>\n",
       "  </tbody>\n",
       "</table>\n",
       "</div>"
      ],
      "text/plain": [
       "    REGION     DISTRICT     MALE   FEMALE\n",
       "158  TANGA      LUSHOTO  69395.0  70238.0\n",
       "159  TANGA       MKINGA  12799.0  12568.0\n",
       "160  TANGA       MUHEZA  19672.0  19650.0\n",
       "161  TANGA      PANGANI   4903.0   4925.0\n",
       "162  TANGA  TANGA URBAN  26555.0  26487.0"
      ]
     },
     "execution_count": 49,
     "metadata": {},
     "output_type": "execute_result"
    }
   ],
   "source": [
    "df2"
   ]
  },
  {
   "cell_type": "code",
   "execution_count": 54,
   "metadata": {},
   "outputs": [],
   "source": [
    "new_df = pd.concat([df1, df2], ignore_index=True)"
   ]
  },
  {
   "cell_type": "code",
   "execution_count": 55,
   "metadata": {},
   "outputs": [
    {
     "data": {
      "text/html": [
       "<div>\n",
       "<style scoped>\n",
       "    .dataframe tbody tr th:only-of-type {\n",
       "        vertical-align: middle;\n",
       "    }\n",
       "\n",
       "    .dataframe tbody tr th {\n",
       "        vertical-align: top;\n",
       "    }\n",
       "\n",
       "    .dataframe thead th {\n",
       "        text-align: right;\n",
       "    }\n",
       "</style>\n",
       "<table border=\"1\" class=\"dataframe\">\n",
       "  <thead>\n",
       "    <tr style=\"text-align: right;\">\n",
       "      <th></th>\n",
       "      <th>REGION</th>\n",
       "      <th>DISTRICT</th>\n",
       "      <th>MALE</th>\n",
       "      <th>FEMALE</th>\n",
       "    </tr>\n",
       "  </thead>\n",
       "  <tbody>\n",
       "    <tr>\n",
       "      <th>0</th>\n",
       "      <td>ARUSHA</td>\n",
       "      <td>ARUSHA RURAL</td>\n",
       "      <td>32475.0</td>\n",
       "      <td>33698.0</td>\n",
       "    </tr>\n",
       "    <tr>\n",
       "      <th>1</th>\n",
       "      <td>ARUSHA</td>\n",
       "      <td>ARUSHA URBAN</td>\n",
       "      <td>36315.0</td>\n",
       "      <td>36993.0</td>\n",
       "    </tr>\n",
       "    <tr>\n",
       "      <th>2</th>\n",
       "      <td>ARUSHA</td>\n",
       "      <td>KARATU</td>\n",
       "      <td>23303.0</td>\n",
       "      <td>23181.0</td>\n",
       "    </tr>\n",
       "    <tr>\n",
       "      <th>3</th>\n",
       "      <td>ARUSHA</td>\n",
       "      <td>LONGIDO</td>\n",
       "      <td>10584.0</td>\n",
       "      <td>9045.0</td>\n",
       "    </tr>\n",
       "    <tr>\n",
       "      <th>4</th>\n",
       "      <td>ARUSHA</td>\n",
       "      <td>MERU</td>\n",
       "      <td>33854.0</td>\n",
       "      <td>34171.0</td>\n",
       "    </tr>\n",
       "    <tr>\n",
       "      <th>5</th>\n",
       "      <td>TANGA</td>\n",
       "      <td>LUSHOTO</td>\n",
       "      <td>69395.0</td>\n",
       "      <td>70238.0</td>\n",
       "    </tr>\n",
       "    <tr>\n",
       "      <th>6</th>\n",
       "      <td>TANGA</td>\n",
       "      <td>MKINGA</td>\n",
       "      <td>12799.0</td>\n",
       "      <td>12568.0</td>\n",
       "    </tr>\n",
       "    <tr>\n",
       "      <th>7</th>\n",
       "      <td>TANGA</td>\n",
       "      <td>MUHEZA</td>\n",
       "      <td>19672.0</td>\n",
       "      <td>19650.0</td>\n",
       "    </tr>\n",
       "    <tr>\n",
       "      <th>8</th>\n",
       "      <td>TANGA</td>\n",
       "      <td>PANGANI</td>\n",
       "      <td>4903.0</td>\n",
       "      <td>4925.0</td>\n",
       "    </tr>\n",
       "    <tr>\n",
       "      <th>9</th>\n",
       "      <td>TANGA</td>\n",
       "      <td>TANGA URBAN</td>\n",
       "      <td>26555.0</td>\n",
       "      <td>26487.0</td>\n",
       "    </tr>\n",
       "  </tbody>\n",
       "</table>\n",
       "</div>"
      ],
      "text/plain": [
       "   REGION      DISTRICT     MALE   FEMALE\n",
       "0  ARUSHA  ARUSHA RURAL  32475.0  33698.0\n",
       "1  ARUSHA  ARUSHA URBAN  36315.0  36993.0\n",
       "2  ARUSHA        KARATU  23303.0  23181.0\n",
       "3  ARUSHA       LONGIDO  10584.0   9045.0\n",
       "4  ARUSHA          MERU  33854.0  34171.0\n",
       "5   TANGA       LUSHOTO  69395.0  70238.0\n",
       "6   TANGA        MKINGA  12799.0  12568.0\n",
       "7   TANGA        MUHEZA  19672.0  19650.0\n",
       "8   TANGA       PANGANI   4903.0   4925.0\n",
       "9   TANGA   TANGA URBAN  26555.0  26487.0"
      ]
     },
     "execution_count": 55,
     "metadata": {},
     "output_type": "execute_result"
    }
   ],
   "source": [
    "new_df"
   ]
  },
  {
   "cell_type": "code",
   "execution_count": 56,
   "metadata": {},
   "outputs": [
    {
     "data": {
      "text/plain": [
       "(10, 4)"
      ]
     },
     "execution_count": 56,
     "metadata": {},
     "output_type": "execute_result"
    }
   ],
   "source": [
    "new_df.shape"
   ]
  },
  {
   "cell_type": "code",
   "execution_count": 57,
   "metadata": {},
   "outputs": [],
   "source": [
    "# append"
   ]
  },
  {
   "cell_type": "code",
   "execution_count": 58,
   "metadata": {},
   "outputs": [
    {
     "data": {
      "text/html": [
       "<div>\n",
       "<style scoped>\n",
       "    .dataframe tbody tr th:only-of-type {\n",
       "        vertical-align: middle;\n",
       "    }\n",
       "\n",
       "    .dataframe tbody tr th {\n",
       "        vertical-align: top;\n",
       "    }\n",
       "\n",
       "    .dataframe thead th {\n",
       "        text-align: right;\n",
       "    }\n",
       "</style>\n",
       "<table border=\"1\" class=\"dataframe\">\n",
       "  <thead>\n",
       "    <tr style=\"text-align: right;\">\n",
       "      <th></th>\n",
       "      <th>REGION</th>\n",
       "      <th>DISTRICT</th>\n",
       "      <th>MALE</th>\n",
       "      <th>FEMALE</th>\n",
       "    </tr>\n",
       "  </thead>\n",
       "  <tbody>\n",
       "    <tr>\n",
       "      <th>0</th>\n",
       "      <td>ARUSHA</td>\n",
       "      <td>ARUSHA RURAL</td>\n",
       "      <td>32475.0</td>\n",
       "      <td>33698.0</td>\n",
       "    </tr>\n",
       "    <tr>\n",
       "      <th>1</th>\n",
       "      <td>ARUSHA</td>\n",
       "      <td>ARUSHA URBAN</td>\n",
       "      <td>36315.0</td>\n",
       "      <td>36993.0</td>\n",
       "    </tr>\n",
       "    <tr>\n",
       "      <th>2</th>\n",
       "      <td>ARUSHA</td>\n",
       "      <td>KARATU</td>\n",
       "      <td>23303.0</td>\n",
       "      <td>23181.0</td>\n",
       "    </tr>\n",
       "    <tr>\n",
       "      <th>3</th>\n",
       "      <td>ARUSHA</td>\n",
       "      <td>LONGIDO</td>\n",
       "      <td>10584.0</td>\n",
       "      <td>9045.0</td>\n",
       "    </tr>\n",
       "    <tr>\n",
       "      <th>4</th>\n",
       "      <td>ARUSHA</td>\n",
       "      <td>MERU</td>\n",
       "      <td>33854.0</td>\n",
       "      <td>34171.0</td>\n",
       "    </tr>\n",
       "  </tbody>\n",
       "</table>\n",
       "</div>"
      ],
      "text/plain": [
       "   REGION      DISTRICT     MALE   FEMALE\n",
       "0  ARUSHA  ARUSHA RURAL  32475.0  33698.0\n",
       "1  ARUSHA  ARUSHA URBAN  36315.0  36993.0\n",
       "2  ARUSHA        KARATU  23303.0  23181.0\n",
       "3  ARUSHA       LONGIDO  10584.0   9045.0\n",
       "4  ARUSHA          MERU  33854.0  34171.0"
      ]
     },
     "execution_count": 58,
     "metadata": {},
     "output_type": "execute_result"
    }
   ],
   "source": [
    "df1"
   ]
  },
  {
   "cell_type": "code",
   "execution_count": 59,
   "metadata": {},
   "outputs": [
    {
     "data": {
      "text/html": [
       "<div>\n",
       "<style scoped>\n",
       "    .dataframe tbody tr th:only-of-type {\n",
       "        vertical-align: middle;\n",
       "    }\n",
       "\n",
       "    .dataframe tbody tr th {\n",
       "        vertical-align: top;\n",
       "    }\n",
       "\n",
       "    .dataframe thead th {\n",
       "        text-align: right;\n",
       "    }\n",
       "</style>\n",
       "<table border=\"1\" class=\"dataframe\">\n",
       "  <thead>\n",
       "    <tr style=\"text-align: right;\">\n",
       "      <th></th>\n",
       "      <th>REGION</th>\n",
       "      <th>DISTRICT</th>\n",
       "      <th>MALE</th>\n",
       "      <th>FEMALE</th>\n",
       "    </tr>\n",
       "  </thead>\n",
       "  <tbody>\n",
       "    <tr>\n",
       "      <th>158</th>\n",
       "      <td>TANGA</td>\n",
       "      <td>LUSHOTO</td>\n",
       "      <td>69395.0</td>\n",
       "      <td>70238.0</td>\n",
       "    </tr>\n",
       "    <tr>\n",
       "      <th>159</th>\n",
       "      <td>TANGA</td>\n",
       "      <td>MKINGA</td>\n",
       "      <td>12799.0</td>\n",
       "      <td>12568.0</td>\n",
       "    </tr>\n",
       "    <tr>\n",
       "      <th>160</th>\n",
       "      <td>TANGA</td>\n",
       "      <td>MUHEZA</td>\n",
       "      <td>19672.0</td>\n",
       "      <td>19650.0</td>\n",
       "    </tr>\n",
       "    <tr>\n",
       "      <th>161</th>\n",
       "      <td>TANGA</td>\n",
       "      <td>PANGANI</td>\n",
       "      <td>4903.0</td>\n",
       "      <td>4925.0</td>\n",
       "    </tr>\n",
       "    <tr>\n",
       "      <th>162</th>\n",
       "      <td>TANGA</td>\n",
       "      <td>TANGA URBAN</td>\n",
       "      <td>26555.0</td>\n",
       "      <td>26487.0</td>\n",
       "    </tr>\n",
       "  </tbody>\n",
       "</table>\n",
       "</div>"
      ],
      "text/plain": [
       "    REGION     DISTRICT     MALE   FEMALE\n",
       "158  TANGA      LUSHOTO  69395.0  70238.0\n",
       "159  TANGA       MKINGA  12799.0  12568.0\n",
       "160  TANGA       MUHEZA  19672.0  19650.0\n",
       "161  TANGA      PANGANI   4903.0   4925.0\n",
       "162  TANGA  TANGA URBAN  26555.0  26487.0"
      ]
     },
     "execution_count": 59,
     "metadata": {},
     "output_type": "execute_result"
    }
   ],
   "source": [
    "df2"
   ]
  },
  {
   "cell_type": "code",
   "execution_count": 60,
   "metadata": {},
   "outputs": [
    {
     "data": {
      "text/html": [
       "<div>\n",
       "<style scoped>\n",
       "    .dataframe tbody tr th:only-of-type {\n",
       "        vertical-align: middle;\n",
       "    }\n",
       "\n",
       "    .dataframe tbody tr th {\n",
       "        vertical-align: top;\n",
       "    }\n",
       "\n",
       "    .dataframe thead th {\n",
       "        text-align: right;\n",
       "    }\n",
       "</style>\n",
       "<table border=\"1\" class=\"dataframe\">\n",
       "  <thead>\n",
       "    <tr style=\"text-align: right;\">\n",
       "      <th></th>\n",
       "      <th>REGION</th>\n",
       "      <th>DISTRICT</th>\n",
       "      <th>MALE</th>\n",
       "      <th>FEMALE</th>\n",
       "    </tr>\n",
       "  </thead>\n",
       "  <tbody>\n",
       "    <tr>\n",
       "      <th>0</th>\n",
       "      <td>ARUSHA</td>\n",
       "      <td>ARUSHA RURAL</td>\n",
       "      <td>32475.0</td>\n",
       "      <td>33698.0</td>\n",
       "    </tr>\n",
       "    <tr>\n",
       "      <th>1</th>\n",
       "      <td>ARUSHA</td>\n",
       "      <td>ARUSHA URBAN</td>\n",
       "      <td>36315.0</td>\n",
       "      <td>36993.0</td>\n",
       "    </tr>\n",
       "    <tr>\n",
       "      <th>2</th>\n",
       "      <td>ARUSHA</td>\n",
       "      <td>KARATU</td>\n",
       "      <td>23303.0</td>\n",
       "      <td>23181.0</td>\n",
       "    </tr>\n",
       "    <tr>\n",
       "      <th>3</th>\n",
       "      <td>ARUSHA</td>\n",
       "      <td>LONGIDO</td>\n",
       "      <td>10584.0</td>\n",
       "      <td>9045.0</td>\n",
       "    </tr>\n",
       "    <tr>\n",
       "      <th>4</th>\n",
       "      <td>ARUSHA</td>\n",
       "      <td>MERU</td>\n",
       "      <td>33854.0</td>\n",
       "      <td>34171.0</td>\n",
       "    </tr>\n",
       "    <tr>\n",
       "      <th>5</th>\n",
       "      <td>TANGA</td>\n",
       "      <td>LUSHOTO</td>\n",
       "      <td>69395.0</td>\n",
       "      <td>70238.0</td>\n",
       "    </tr>\n",
       "    <tr>\n",
       "      <th>6</th>\n",
       "      <td>TANGA</td>\n",
       "      <td>MKINGA</td>\n",
       "      <td>12799.0</td>\n",
       "      <td>12568.0</td>\n",
       "    </tr>\n",
       "    <tr>\n",
       "      <th>7</th>\n",
       "      <td>TANGA</td>\n",
       "      <td>MUHEZA</td>\n",
       "      <td>19672.0</td>\n",
       "      <td>19650.0</td>\n",
       "    </tr>\n",
       "    <tr>\n",
       "      <th>8</th>\n",
       "      <td>TANGA</td>\n",
       "      <td>PANGANI</td>\n",
       "      <td>4903.0</td>\n",
       "      <td>4925.0</td>\n",
       "    </tr>\n",
       "    <tr>\n",
       "      <th>9</th>\n",
       "      <td>TANGA</td>\n",
       "      <td>TANGA URBAN</td>\n",
       "      <td>26555.0</td>\n",
       "      <td>26487.0</td>\n",
       "    </tr>\n",
       "  </tbody>\n",
       "</table>\n",
       "</div>"
      ],
      "text/plain": [
       "   REGION      DISTRICT     MALE   FEMALE\n",
       "0  ARUSHA  ARUSHA RURAL  32475.0  33698.0\n",
       "1  ARUSHA  ARUSHA URBAN  36315.0  36993.0\n",
       "2  ARUSHA        KARATU  23303.0  23181.0\n",
       "3  ARUSHA       LONGIDO  10584.0   9045.0\n",
       "4  ARUSHA          MERU  33854.0  34171.0\n",
       "5   TANGA       LUSHOTO  69395.0  70238.0\n",
       "6   TANGA        MKINGA  12799.0  12568.0\n",
       "7   TANGA        MUHEZA  19672.0  19650.0\n",
       "8   TANGA       PANGANI   4903.0   4925.0\n",
       "9   TANGA   TANGA URBAN  26555.0  26487.0"
      ]
     },
     "execution_count": 60,
     "metadata": {},
     "output_type": "execute_result"
    }
   ],
   "source": [
    "df1.append(df2, ignore_index=True)"
   ]
  },
  {
   "cell_type": "code",
   "execution_count": 61,
   "metadata": {},
   "outputs": [],
   "source": [
    "# grouping"
   ]
  },
  {
   "cell_type": "code",
   "execution_count": 62,
   "metadata": {},
   "outputs": [],
   "source": [
    "groups = df.groupby(['REGION'])"
   ]
  },
  {
   "cell_type": "code",
   "execution_count": 63,
   "metadata": {},
   "outputs": [
    {
     "data": {
      "text/plain": [
       "<pandas.core.groupby.generic.DataFrameGroupBy object at 0x7f3824c67e20>"
      ]
     },
     "execution_count": 63,
     "metadata": {},
     "output_type": "execute_result"
    }
   ],
   "source": [
    "groups"
   ]
  },
  {
   "cell_type": "code",
   "execution_count": 65,
   "metadata": {},
   "outputs": [
    {
     "data": {
      "text/plain": [
       "REGION\n",
       "ARUSHA            7\n",
       "DAR ES SALAAM     3\n",
       "DODOMA            7\n",
       "GEITA             6\n",
       "IRINGA            4\n",
       "KAGERA            8\n",
       "KATAVI            4\n",
       "KIGOMA            7\n",
       "KILIMANJARO       7\n",
       "LINDI             6\n",
       "MANYARA           6\n",
       "MARA              8\n",
       "MBEYA            10\n",
       "MOROGORO          7\n",
       "MTWARA            7\n",
       "MWANZA            7\n",
       "NJOMBE            6\n",
       "PWANI             7\n",
       "RUKWA             4\n",
       "RUVUMA            6\n",
       "SHINYANGA         7\n",
       "SIMIYU            6\n",
       "SINGIDA           6\n",
       "TABORA            7\n",
       "TANGA            10\n",
       "Name: DISTRICT, dtype: int64"
      ]
     },
     "execution_count": 65,
     "metadata": {},
     "output_type": "execute_result"
    }
   ],
   "source": [
    "groups.count()['DISTRICT']"
   ]
  },
  {
   "cell_type": "code",
   "execution_count": 66,
   "metadata": {},
   "outputs": [
    {
     "data": {
      "text/plain": [
       "{'ARUSHA': [0, 1, 2, 3, 4, 5, 6], 'DAR ES SALAAM': [7, 8, 9], 'DODOMA': [10, 11, 12, 13, 14, 15, 16], 'GEITA': [17, 18, 19, 20, 21, 22], 'IRINGA': [23, 24, 25, 26], 'KAGERA': [27, 28, 29, 30, 31, 32, 33, 34], 'KATAVI': [35, 36, 37, 38], 'KIGOMA': [39, 40, 41, 42, 43, 44, 45], 'KILIMANJARO': [46, 47, 48, 49, 50, 51, 52], 'LINDI': [53, 54, 55, 56, 57, 58], 'MANYARA': [59, 60, 61, 62, 63, 64], 'MARA': [65, 66, 67, 68, 69, 70, 71, 72], 'MBEYA': [73, 74, 75, 76, 77, 78, 79, 80, 81, 82], 'MOROGORO': [83, 84, 85, 86, 87, 88, 89], 'MTWARA': [90, 91, 92, 93, 94, 95, 96], 'MWANZA': [97, 98, 99, 100, 101, 102, 103], 'NJOMBE': [104, 105, 106, 107, 108, 109], 'PWANI': [110, 111, 112, 113, 114, 115, 116], 'RUKWA': [117, 118, 119, 120], 'RUVUMA': [121, 122, 123, 124, 125, 126], 'SHINYANGA': [127, 128, 129, 130, 131, 132, 133], 'SIMIYU': [134, 135, 136, 137, 138, 139], 'SINGIDA': [140, 141, 142, 143, 144, 145], 'TABORA': [146, 147, 148, 149, 150, 151, 152], 'TANGA': [153, 154, 155, 156, 157, 158, 159, 160, 161, 162]}"
      ]
     },
     "execution_count": 66,
     "metadata": {},
     "output_type": "execute_result"
    }
   ],
   "source": [
    "groups.groups"
   ]
  },
  {
   "cell_type": "code",
   "execution_count": null,
   "metadata": {},
   "outputs": [],
   "source": []
  }
 ],
 "metadata": {
  "kernelspec": {
   "display_name": "Python 3",
   "language": "python",
   "name": "python3"
  },
  "language_info": {
   "codemirror_mode": {
    "name": "ipython",
    "version": 3
   },
   "file_extension": ".py",
   "mimetype": "text/x-python",
   "name": "python",
   "nbconvert_exporter": "python",
   "pygments_lexer": "ipython3",
   "version": "3.8.5"
  }
 },
 "nbformat": 4,
 "nbformat_minor": 4
}
